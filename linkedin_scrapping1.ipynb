{
 "cells": [
  {
   "cell_type": "code",
   "execution_count": 1,
   "id": "fbdf8101",
   "metadata": {},
   "outputs": [],
   "source": [
    "#Import Packages\n",
    "from selenium import webdriver\n",
    "import time\n",
    "import pandas as pd\n",
    "import os\n",
    "#Import Packages\n",
    "\n",
    "from datetime import datetime\n",
    "from selenium.webdriver.support.select import Select\n",
    "from selenium.webdriver.support.ui import WebDriverWait\n",
    "from selenium.webdriver.common.by import By\n",
    "from selenium.webdriver.support import expected_conditions as EC\n",
    "from selenium.webdriver.common.keys import Keys"
   ]
  },
  {
   "cell_type": "code",
   "execution_count": 2,
   "id": "a9854468",
   "metadata": {},
   "outputs": [],
   "source": [
    "# !pip install selenium\n",
    "# !pip install pandas"
   ]
  },
  {
   "cell_type": "code",
   "execution_count": 3,
   "id": "87749d46",
   "metadata": {},
   "outputs": [],
   "source": [
    "url1='https://www.linkedin.com/jobs/search/?keywords=Data%20Analyst&location=United%20States&locationId=&geoId=103644278&f_TPR=r604800&f_E=2%2C3&f_PP=104194190&position=1&pageNum=0'\n",
    "\n",
    "# service = Service('C:\\\\Users\\\\suraj\\\\OneDrive - UNT System\\\\2023\\\\softwares\\\\chromedriver_win32\\\\chromedriver.exe')\n",
    "options = webdriver.ChromeOptions()\n",
    "# driver = webdriver.Chrome(service=service, options=options)\n",
    "driver = webdriver.Chrome(options = options)\n",
    "driver.maximize_window()\n",
    "driver.implicitly_wait(3)\n",
    "driver.get(url1)"
   ]
  },
  {
   "cell_type": "code",
   "execution_count": null,
   "id": "8f5c6fe9",
   "metadata": {},
   "outputs": [],
   "source": []
  },
  {
   "cell_type": "code",
   "execution_count": null,
   "id": "a5f2de6b",
   "metadata": {},
   "outputs": [],
   "source": []
  },
  {
   "cell_type": "code",
   "execution_count": 4,
   "id": "583d3d40",
   "metadata": {},
   "outputs": [
    {
     "data": {
      "text/plain": [
       "264"
      ]
     },
     "execution_count": 4,
     "metadata": {},
     "output_type": "execute_result"
    }
   ],
   "source": [
    "y=driver.find_elements(By.CLASS_NAME,'results-context-header__job-count')[0].text\n",
    "y=y.strip('+')\n",
    "y=y.replace(\",\", \"\")\n",
    "y=pd.to_numeric(y)\n",
    "y"
   ]
  },
  {
   "cell_type": "code",
   "execution_count": 5,
   "id": "58e8e0f8",
   "metadata": {},
   "outputs": [],
   "source": [
    "i=1\n",
    "# scroll_position = 1  # Example value: Adjust this as needed\n",
    "time.sleep(4)\n",
    "# for k in range(1,int(y/10)):\n",
    "scroll_pause_time = 1 # You can set your own pause time. My laptop is a bit slow so I use 1 sec\n",
    "screen_height = driver.execute_script(\"return window.screen.height;\")   # get the screen height of the web\n",
    "i = 1\n",
    "\n",
    "while True:\n",
    "    # scroll one screen height each time\n",
    "    driver.execute_script(\"window.scrollTo(0, {screen_height}*{i});\".format(screen_height=screen_height, i=i))  \n",
    "    i += 1\n",
    "    time.sleep(scroll_pause_time)\n",
    "    # update scroll height each time after scrolled, as the scroll height can change after we scrolled the page\n",
    "    scroll_height = driver.execute_script(\"return document.body.scrollHeight;\") \n",
    "    try:\n",
    "        send=driver.find_element(By.XPATH,\"//button[@aria-label='See more jobs']\")\n",
    "        driver.execute_script(\"arguments[0].click();\", send)   \n",
    "        time.sleep(3)\n",
    "    except:\n",
    "        pass\n",
    "        time.sleep(1)\n",
    "    # Break the loop when the height we need to scroll to is larger than the total scroll height\n",
    "    if (screen_height) * i > scroll_height:\n",
    "        break\n",
    "#     driver.execute_script(\"window.scrollTo(0, document.body.scrollHeight);\")\n",
    "#     time.sleep(2)\n",
    "# #     scroll_height = driver.execute_script(\"return document.body.scrollHeight\")\n",
    "\n",
    "#     try:\n",
    "#         send=driver.find_element(By.XPATH,\"//button[@aria-label='See more jobs']\")\n",
    "#         driver.execute_script(\"arguments[0].click();\", send)   \n",
    "#         time.sleep(3)\n",
    "#     except:\n",
    "#         pass\n",
    "#         time.sleep(3)\n",
    "        \n",
    "#     driver.execute_script(\"window.scrollTo(0, document.body.scrollHeight-10);\") \n",
    "#     time.sleep(2)\n",
    "       \n",
    "    \n",
    "#     element = driver.find_element(\"\",\"\").send_keys(Keys.PAGE_DOWN)\n",
    "#     element.send_keys(\"hey\")\n",
    "#     driver.send_keys(Keys.PAGE_DOWN)\n",
    "    "
   ]
  },
  {
   "cell_type": "code",
   "execution_count": 6,
   "id": "9a3fff6c",
   "metadata": {},
   "outputs": [],
   "source": [
    "#Create empty lists for company name and job title\n",
    "\n",
    "companyname= []\n",
    "\n",
    "\n",
    "#Find company name and append it to the blank list\n",
    "\n",
    "for j in range(y):\n",
    "    try:\n",
    "        company=driver.find_elements(By.CLASS_NAME,'base-search-card__subtitle')[j].text\n",
    "        companyname.append(company)\n",
    "#         title=driver.find_elements(By.CLASS_NAME,'base-search-card__title')[j].text\n",
    "#         titlename.append(title) \n",
    "    except :\n",
    "        pass\n",
    "#         print(\"no\")\n",
    "#         print(company)\n",
    "  "
   ]
  },
  {
   "cell_type": "code",
   "execution_count": 7,
   "id": "2036a7c9",
   "metadata": {},
   "outputs": [],
   "source": [
    "#Create empty lists for company name and job title\n",
    "\n",
    "titlename= []\n",
    "\n",
    "\n",
    "#Find company name and append it to the blank list\n",
    "\n",
    "for i in range(y):\n",
    "    try:\n",
    "#         company=driver.find_elements(By.CLASS_NAME,'base-search-card__subtitle')[i].text\n",
    "#         companyname.append(company)\n",
    "        title=driver.find_elements(By.CLASS_NAME,'base-search-card__title')[i].text\n",
    "        titlename.append(title) \n",
    "    except :\n",
    "        pass\n",
    "#         print(\"no\")\n",
    "#         print(company)\n",
    "  "
   ]
  },
  {
   "cell_type": "code",
   "execution_count": 8,
   "id": "552ad527",
   "metadata": {},
   "outputs": [
    {
     "data": {
      "text/plain": [
       "264"
      ]
     },
     "execution_count": 8,
     "metadata": {},
     "output_type": "execute_result"
    }
   ],
   "source": [
    "len(companyname)"
   ]
  },
  {
   "cell_type": "code",
   "execution_count": 9,
   "id": "98759ece",
   "metadata": {},
   "outputs": [],
   "source": [
    "# companyname"
   ]
  },
  {
   "cell_type": "code",
   "execution_count": 10,
   "id": "a28edff1",
   "metadata": {},
   "outputs": [
    {
     "data": {
      "text/plain": [
       "264"
      ]
     },
     "execution_count": 10,
     "metadata": {},
     "output_type": "execute_result"
    }
   ],
   "source": [
    "len(titlename)"
   ]
  },
  {
   "cell_type": "code",
   "execution_count": 11,
   "id": "69a29c2d",
   "metadata": {},
   "outputs": [],
   "source": [
    "companyname=pd.DataFrame(companyname,columns=[\"Company\"])\n",
    "titlename=pd.DataFrame(titlename,columns=['Title'])\n",
    "# companyname"
   ]
  },
  {
   "cell_type": "code",
   "execution_count": null,
   "id": "71c62e65",
   "metadata": {},
   "outputs": [],
   "source": []
  },
  {
   "cell_type": "code",
   "execution_count": 12,
   "id": "964b4a39",
   "metadata": {},
   "outputs": [
    {
     "data": {
      "text/html": [
       "<div>\n",
       "<style scoped>\n",
       "    .dataframe tbody tr th:only-of-type {\n",
       "        vertical-align: middle;\n",
       "    }\n",
       "\n",
       "    .dataframe tbody tr th {\n",
       "        vertical-align: top;\n",
       "    }\n",
       "\n",
       "    .dataframe thead th {\n",
       "        text-align: right;\n",
       "    }\n",
       "</style>\n",
       "<table border=\"1\" class=\"dataframe\">\n",
       "  <thead>\n",
       "    <tr style=\"text-align: right;\">\n",
       "      <th></th>\n",
       "      <th>Company</th>\n",
       "      <th>Title</th>\n",
       "    </tr>\n",
       "  </thead>\n",
       "  <tbody>\n",
       "    <tr>\n",
       "      <th>0</th>\n",
       "      <td>Anblicks</td>\n",
       "      <td>Data Analyst</td>\n",
       "    </tr>\n",
       "    <tr>\n",
       "      <th>1</th>\n",
       "      <td>Central Business Solutions Inc.</td>\n",
       "      <td>Data Analyst</td>\n",
       "    </tr>\n",
       "    <tr>\n",
       "      <th>2</th>\n",
       "      <td>Get It Recruit - Information Technology</td>\n",
       "      <td>Data Analyst Salesforce - Remote | WFH</td>\n",
       "    </tr>\n",
       "    <tr>\n",
       "      <th>3</th>\n",
       "      <td>Anblicks</td>\n",
       "      <td>Data Analyst role</td>\n",
       "    </tr>\n",
       "    <tr>\n",
       "      <th>4</th>\n",
       "      <td>Mindpal</td>\n",
       "      <td>Data Engineer (Snowflake)</td>\n",
       "    </tr>\n",
       "    <tr>\n",
       "      <th>...</th>\n",
       "      <td>...</td>\n",
       "      <td>...</td>\n",
       "    </tr>\n",
       "    <tr>\n",
       "      <th>259</th>\n",
       "      <td>Dice</td>\n",
       "      <td>DevsecOps Engineer</td>\n",
       "    </tr>\n",
       "    <tr>\n",
       "      <th>260</th>\n",
       "      <td>STV</td>\n",
       "      <td>SIT Survey Technician - 4416</td>\n",
       "    </tr>\n",
       "    <tr>\n",
       "      <th>261</th>\n",
       "      <td>Dice</td>\n",
       "      <td>W2 Opportunity - iOS Developer</td>\n",
       "    </tr>\n",
       "    <tr>\n",
       "      <th>262</th>\n",
       "      <td>Dice</td>\n",
       "      <td>Java Lead</td>\n",
       "    </tr>\n",
       "    <tr>\n",
       "      <th>263</th>\n",
       "      <td>Dice</td>\n",
       "      <td>OneTrust Developer</td>\n",
       "    </tr>\n",
       "  </tbody>\n",
       "</table>\n",
       "<p>264 rows × 2 columns</p>\n",
       "</div>"
      ],
      "text/plain": [
       "                                     Company  \\\n",
       "0                                   Anblicks   \n",
       "1            Central Business Solutions Inc.   \n",
       "2    Get It Recruit - Information Technology   \n",
       "3                                   Anblicks   \n",
       "4                                    Mindpal   \n",
       "..                                       ...   \n",
       "259                                     Dice   \n",
       "260                                      STV   \n",
       "261                                     Dice   \n",
       "262                                     Dice   \n",
       "263                                     Dice   \n",
       "\n",
       "                                      Title  \n",
       "0                              Data Analyst  \n",
       "1                              Data Analyst  \n",
       "2    Data Analyst Salesforce - Remote | WFH  \n",
       "3                         Data Analyst role  \n",
       "4                 Data Engineer (Snowflake)  \n",
       "..                                      ...  \n",
       "259                      DevsecOps Engineer  \n",
       "260            SIT Survey Technician - 4416  \n",
       "261          W2 Opportunity - iOS Developer  \n",
       "262                               Java Lead  \n",
       "263                      OneTrust Developer  \n",
       "\n",
       "[264 rows x 2 columns]"
      ]
     },
     "execution_count": 12,
     "metadata": {},
     "output_type": "execute_result"
    }
   ],
   "source": [
    "# combined_df = companyname.join(titlename)\n",
    "# combined_df\n",
    "\n",
    "combined_df=pd.concat([companyname,titlename],axis=1)\n",
    "combined_df"
   ]
  },
  {
   "cell_type": "code",
   "execution_count": 13,
   "id": "ca4ea2b0",
   "metadata": {},
   "outputs": [],
   "source": [
    "jobList=driver.find_elements(By.CLASS_NAME,\"base-card__full-link\")\n",
    "hrefList = []\n",
    "for e in jobList:\n",
    "    hrefList.append(e.get_attribute('href'))\n",
    "\n",
    "# hrefList = []\n",
    "# for e in link_lists:\n",
    "#     hrefList.append(e.get_attribute('href'))\n",
    "\n",
    "# for link in driver.findAll('a'):\n",
    "#     print(link.get('href'))"
   ]
  },
  {
   "cell_type": "code",
   "execution_count": 14,
   "id": "8072817f",
   "metadata": {},
   "outputs": [
    {
     "data": {
      "text/plain": [
       "[]"
      ]
     },
     "execution_count": 14,
     "metadata": {},
     "output_type": "execute_result"
    }
   ],
   "source": [
    "# hrefList\n",
    "# jobposted=driver.find_elements(By.CLASS_NAME,\"job-search-card__listdate\")\n",
    "# posted=[]\n",
    "# for d in jobposted:\n",
    "#     posted.append(driver.find_element(By.TAG_NAME, 'datetime'))\n",
    "    \n",
    "# posted\n",
    "\n",
    "time_elements = driver.find_elements(By.CLASS_NAME, 'time')\n",
    "time_texts = [element.text for element in time_elements]\n",
    "\n",
    "# Print the extracted time texts\n",
    "for time_text in time_texts:\n",
    "    print(\"Time:\", time_text)\n",
    "time_texts"
   ]
  },
  {
   "cell_type": "code",
   "execution_count": 15,
   "id": "d4c89dd0",
   "metadata": {},
   "outputs": [],
   "source": [
    "#Create empty lists for company name and job title\n",
    "\n",
    "last_updated= []\n",
    "postdate=[]\n",
    "\n",
    "\n",
    "#Find company name and append it to the blank list\n",
    "\n",
    "for d in range(y):\n",
    "    try:\n",
    "        posting=driver.find_elements(By.CLASS_NAME,'job-search-card__listdate')[d].text\n",
    "        datetime_value = driver.find_elements(By.CLASS_NAME,'job-search-card__listdate')[d].get_attribute('datetime')\n",
    "        postdate.append(datetime_value)\n",
    "        last_updated.append(posting)\n",
    "#         title=driver.find_elements(By.CLASS_NAME,'base-search-card__title')[j].text\n",
    "#         titlename.append(title) \n",
    "    except :\n",
    "        pass\n",
    "#         print(\"no\")\n",
    "#         print(company)"
   ]
  },
  {
   "cell_type": "code",
   "execution_count": 16,
   "id": "a430f816",
   "metadata": {},
   "outputs": [],
   "source": [
    "postdate=pd.DataFrame(postdate,columns=[\"postdate\"])\n",
    "last_updated=pd.DataFrame(last_updated,columns=[\"last_updated\"])"
   ]
  },
  {
   "cell_type": "code",
   "execution_count": 17,
   "id": "b5b05852",
   "metadata": {},
   "outputs": [
    {
     "name": "stdout",
     "output_type": "stream",
     "text": [
      "2023-07-07 16-51-00\n"
     ]
    }
   ],
   "source": [
    "dt=datetime.now().strftime(\"%Y-%m-%d %H-%M-%S\")\n",
    "print(dt)"
   ]
  },
  {
   "cell_type": "code",
   "execution_count": 18,
   "id": "b70266fd",
   "metadata": {},
   "outputs": [],
   "source": [
    "linklist=pd.DataFrame(hrefList,columns=[\"joblinks\"])\n",
    "# combined_df = linklist.join(combined_df)\n",
    "combined_df = pd.concat([postdate,combined_df,linklist,last_updated], axis=1)\n",
    "combined_df\n",
    "filename= 'linkedIn_jobs'+ dt+'.csv'\n",
    "combined_df.to_csv(filename,index=False)\n",
    "\n",
    "#Close the driver\n",
    "\n",
    "driver.close()"
   ]
  }
 ],
 "metadata": {
  "kernelspec": {
   "display_name": "Python 3 (ipykernel)",
   "language": "python",
   "name": "python3"
  },
  "language_info": {
   "codemirror_mode": {
    "name": "ipython",
    "version": 3
   },
   "file_extension": ".py",
   "mimetype": "text/x-python",
   "name": "python",
   "nbconvert_exporter": "python",
   "pygments_lexer": "ipython3",
   "version": "3.11.4"
  }
 },
 "nbformat": 4,
 "nbformat_minor": 5
}
